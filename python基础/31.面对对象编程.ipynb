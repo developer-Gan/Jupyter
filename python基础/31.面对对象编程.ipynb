{
 "cells": [
  {
   "cell_type": "markdown",
   "metadata": {},
   "source": [
    "# 面对对象编程"
   ]
  },
  {
   "cell_type": "markdown",
   "metadata": {},
   "source": [
    "## 类的定义方法"
   ]
  },
  {
   "cell_type": "code",
   "execution_count": 21,
   "metadata": {},
   "outputs": [
    {
     "name": "stdout",
     "output_type": "stream",
     "text": [
      "Tom\n"
     ]
    }
   ],
   "source": [
    "class Person:\n",
    "    nationality = \"china\" # 此处将国籍/nationality定义为public属性\n",
    "    _deposit = 10e10 # Python受保护属性名以一个下划线开始，此处将存款数量/deposit定义为protected属性\n",
    "    __gender = \"M\" # Python私有属性名以两个下划线开始，此处将性别/gender定义为private属性\n",
    "    \n",
    "    def __init__(self, name, age):\n",
    "        self.name = name # 实例对象属性\n",
    "        age = age # 局部变量\n",
    "        \n",
    "    def say_hi(self):\n",
    "        print(self.name)\n",
    "        \n",
    "p1 = Person(\"Tom\", 30)\n",
    "p1.say_hi()"
   ]
  },
  {
   "cell_type": "code",
   "execution_count": 22,
   "metadata": {
    "collapsed": true
   },
   "outputs": [],
   "source": [
    "# __init__() ： 初始化函数"
   ]
  },
  {
   "cell_type": "code",
   "execution_count": 23,
   "metadata": {
    "collapsed": true
   },
   "outputs": [],
   "source": [
    "# __new__() ： 构造函数"
   ]
  },
  {
   "cell_type": "code",
   "execution_count": 24,
   "metadata": {
    "collapsed": true
   },
   "outputs": [],
   "source": [
    "# __del__() : 析构函数"
   ]
  },
  {
   "cell_type": "markdown",
   "metadata": {},
   "source": [
    "## 类中的特殊方法"
   ]
  },
  {
   "cell_type": "code",
   "execution_count": 25,
   "metadata": {},
   "outputs": [
    {
     "name": "stdout",
     "output_type": "stream",
     "text": [
      "Tom\n"
     ]
    }
   ],
   "source": [
    "class Person:\n",
    "    \"\"\"\n",
    "    此处为类Person的docString\n",
    "    \"\"\"\n",
    "    nationality = \"China\"\n",
    "    _desposit = 10e10\n",
    "    __gender = \"M\"\n",
    "    \n",
    "    # 实例方法，第一个参数必须为位置参数 self 类实例的引用\n",
    "    def __init__(self, name, age): # selt 相当于 this ，\n",
    "        age = age # 局部变量\n",
    "        self.name = name # 实例属性\n",
    "        \n",
    "    def say_hi(self):\n",
    "        print(self.name)\n",
    "        \n",
    "    # 类方法，第一个参数必须为“类的引用cls” ，该方法的前面加一行 @classmethod\n",
    "    @classmethod\n",
    "    def class_func(cls):\n",
    "        cls.nationality = \"CHINA\"\n",
    "        print(\"I live in {0}\".format(cls.nationality))\n",
    "        \n",
    "    # 静态方法 形参中没有 cls 或 self， 甚至可以没有任何参数, 没有用到类中任何属性的方法\n",
    "    @staticmethod\n",
    "    def static_func(x, y):\n",
    "        print(x + y)\n",
    "        \n",
    "p1 = Person(\"Tom\", 20)\n",
    "p1.say_hi()"
   ]
  },
  {
   "cell_type": "code",
   "execution_count": 26,
   "metadata": {},
   "outputs": [
    {
     "name": "stdout",
     "output_type": "stream",
     "text": [
      "500\n"
     ]
    }
   ],
   "source": [
    "Person.static_func(200, 300) # 通过类名，类对象名调用静态方法"
   ]
  },
  {
   "cell_type": "code",
   "execution_count": 27,
   "metadata": {},
   "outputs": [
    {
     "name": "stdout",
     "output_type": "stream",
     "text": [
      "500\n"
     ]
    }
   ],
   "source": [
    "p1.static_func(200, 300)"
   ]
  },
  {
   "cell_type": "code",
   "execution_count": 28,
   "metadata": {},
   "outputs": [
    {
     "name": "stdout",
     "output_type": "stream",
     "text": [
      "I live in CHINA\n"
     ]
    }
   ],
   "source": [
    "Person.class_func() # 通过类名，类实例名调用类方法"
   ]
  },
  {
   "cell_type": "code",
   "execution_count": 29,
   "metadata": {},
   "outputs": [
    {
     "name": "stdout",
     "output_type": "stream",
     "text": [
      "I live in CHINA\n"
     ]
    }
   ],
   "source": [
    "p1.class_func()"
   ]
  },
  {
   "cell_type": "markdown",
   "metadata": {},
   "source": [
    "## 类之间的继承关系"
   ]
  },
  {
   "cell_type": "code",
   "execution_count": 30,
   "metadata": {
    "collapsed": true
   },
   "outputs": [],
   "source": [
    "class Teacher(Person):\n",
    "    pass\n",
    "t1 = Teacher(\"zhang\",20)"
   ]
  },
  {
   "cell_type": "code",
   "execution_count": 31,
   "metadata": {},
   "outputs": [
    {
     "name": "stdout",
     "output_type": "stream",
     "text": [
      "<__main__.Teacher object at 0x000002BF486006D8>\n"
     ]
    }
   ],
   "source": [
    "print(t1)"
   ]
  },
  {
   "cell_type": "code",
   "execution_count": 32,
   "metadata": {},
   "outputs": [
    {
     "name": "stdout",
     "output_type": "stream",
     "text": [
      "I live in CHINA\n"
     ]
    }
   ],
   "source": [
    "t1.class_func()"
   ]
  },
  {
   "cell_type": "code",
   "execution_count": 33,
   "metadata": {},
   "outputs": [
    {
     "name": "stdout",
     "output_type": "stream",
     "text": [
      "11\n"
     ]
    }
   ],
   "source": [
    "t1.static_func(1, 10)"
   ]
  },
  {
   "cell_type": "code",
   "execution_count": 34,
   "metadata": {},
   "outputs": [
    {
     "name": "stdout",
     "output_type": "stream",
     "text": [
      "12\n"
     ]
    }
   ],
   "source": [
    "Person.static_func(2, 10)"
   ]
  },
  {
   "cell_type": "code",
   "execution_count": 35,
   "metadata": {},
   "outputs": [
    {
     "data": {
      "text/plain": [
       "100000000000.0"
      ]
     },
     "execution_count": 35,
     "metadata": {},
     "output_type": "execute_result"
    }
   ],
   "source": [
    "t1._desposit"
   ]
  },
  {
   "cell_type": "code",
   "execution_count": 36,
   "metadata": {},
   "outputs": [
    {
     "data": {
      "text/plain": [
       "'Person'"
      ]
     },
     "execution_count": 36,
     "metadata": {},
     "output_type": "execute_result"
    }
   ],
   "source": [
    "# __name__ ： 获取类名\n",
    "# __doc__ ：获取类的文档字符串，默认为类代码块中第一行的代码块\n",
    "# __bases__ ： 获取类的所有父类组成的元组\n",
    "# __dict__ ： 获取类的所有属性和方法组成的列表\n",
    "# __module__ ： 获取类定义所在的模块名\n",
    "# __class__ : 获取实例对应的类\n",
    "\n",
    "Person.__name__"
   ]
  },
  {
   "cell_type": "markdown",
   "metadata": {},
   "source": [
    "## 私有属性及 @property 装饰器"
   ]
  },
  {
   "cell_type": "code",
   "execution_count": 37,
   "metadata": {},
   "outputs": [
    {
     "name": "stdout",
     "output_type": "stream",
     "text": [
      "Zhang\n"
     ]
    }
   ],
   "source": [
    "class Student:\n",
    "    __name = \"Zhang\"\n",
    "    age = 18\n",
    "    \n",
    "    @property\n",
    "    def get_name(self):\n",
    "        print(self.__name)\n",
    "        \n",
    "stdnt1 = Student()\n",
    "stdnt1.get_name # Property 修饰的函数不能加“()”，必须通过属性方式调用"
   ]
  },
  {
   "cell_type": "markdown",
   "metadata": {},
   "source": [
    "## self 和 cls"
   ]
  },
  {
   "cell_type": "code",
   "execution_count": 50,
   "metadata": {},
   "outputs": [
    {
     "data": {
      "text/plain": [
       "('song', 30, 'zhang', 20)"
      ]
     },
     "execution_count": 50,
     "metadata": {},
     "output_type": "execute_result"
    }
   ],
   "source": [
    "class Student:\n",
    "    age = 0\n",
    "    name = \"z\"\n",
    "    \n",
    "    def __init__(self):\n",
    "        self.name = \"zhang\"\n",
    "        age = 10\n",
    "        \n",
    "s1 = Student()\n",
    "s2 = Student()\n",
    "s1.name = \"song\"\n",
    "s1.age = 30\n",
    "Student.age = 20 \n",
    "Student.name = \"li\" \n",
    "s1.name,s1.age,s2.name,s2.age"
   ]
  },
  {
   "cell_type": "markdown",
   "metadata": {},
   "source": [
    "## new 与 init 的区别和联系"
   ]
  },
  {
   "cell_type": "code",
   "execution_count": 1,
   "metadata": {},
   "outputs": [
    {
     "name": "stdout",
     "output_type": "stream",
     "text": [
      "new 函数被调用\n"
     ]
    }
   ],
   "source": [
    "class Student:\n",
    "    name = \"wang\"\n",
    "    __age = 16\n",
    "    \n",
    "    def __new__(cls, name, age): # 开辟内存空间\n",
    "        print(\"new 函数被调用\")\n",
    "        \n",
    "    def __init__(self, name, age): # 初始化\n",
    "        print(\"init 函数被调用\")\n",
    "        self.name = name\n",
    "        self.age = age\n",
    "        \n",
    "    def sayHi(self):\n",
    "        print(self.name, self.age)\n",
    "        \n",
    "s1 = Student(\"zhang\", 18)"
   ]
  },
  {
   "cell_type": "code",
   "execution_count": 2,
   "metadata": {},
   "outputs": [
    {
     "name": "stdout",
     "output_type": "stream",
     "text": [
      "None\n"
     ]
    }
   ],
   "source": [
    "print(s1)"
   ]
  },
  {
   "cell_type": "code",
   "execution_count": null,
   "metadata": {
    "collapsed": true
   },
   "outputs": [],
   "source": [
    "# 当 \"__new__()\" 中的return语句执行之后才执行 __init__()"
   ]
  },
  {
   "cell_type": "code",
   "execution_count": 3,
   "metadata": {
    "collapsed": true
   },
   "outputs": [],
   "source": [
    "# 执行函数 __new__()后生成的是“对象”；执行函数 __init__() 后生成的是“实例”"
   ]
  },
  {
   "cell_type": "code",
   "execution_count": null,
   "metadata": {
    "collapsed": true
   },
   "outputs": [],
   "source": [
    "# 增加 return object.__new__(cls)"
   ]
  },
  {
   "cell_type": "code",
   "execution_count": 5,
   "metadata": {},
   "outputs": [
    {
     "name": "stdout",
     "output_type": "stream",
     "text": [
      "new 函数被调用\n",
      "init 函数被调用\n",
      "zhang 18\n"
     ]
    }
   ],
   "source": [
    "class Student:\n",
    "    name = \"wang\"\n",
    "    __age = 16\n",
    "    \n",
    "    def __new__(cls, name, age):\n",
    "        print(\"new 函数被调用\")\n",
    "        return object.__new__(cls)\n",
    "        \n",
    "    def __init__(self, name, age):\n",
    "        print(\"init 函数被调用\")\n",
    "        self.name = name\n",
    "        self.age = age\n",
    "        \n",
    "    def sayHi(self):\n",
    "        print(self.name, self.age)\n",
    "        \n",
    "s1 = Student(\"zhang\", 18)\n",
    "s1.sayHi()"
   ]
  }
 ],
 "metadata": {
  "kernelspec": {
   "display_name": "Python 3",
   "language": "python",
   "name": "python3"
  },
  "language_info": {
   "codemirror_mode": {
    "name": "ipython",
    "version": 3
   },
   "file_extension": ".py",
   "mimetype": "text/x-python",
   "name": "python",
   "nbconvert_exporter": "python",
   "pygments_lexer": "ipython3",
   "version": "3.6.2"
  }
 },
 "nbformat": 4,
 "nbformat_minor": 2
}
