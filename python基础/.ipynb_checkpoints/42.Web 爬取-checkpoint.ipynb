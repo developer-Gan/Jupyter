{
 "cells": [
  {
   "cell_type": "markdown",
   "metadata": {},
   "source": [
    "# Web 爬取"
   ]
  },
  {
   "cell_type": "code",
   "execution_count": null,
   "metadata": {},
   "outputs": [],
   "source": [
    "Scrapy 是基于 HTTP 的 Request（请求）/ Response（响应）模式运行的，其数据流由执行引擎（Engine）控制，具体步骤如下：\n",
    "\n",
    "[1] 执行引擎从爬虫（Spider）处获得一个需要爬取的初始 Request\n",
    "\n",
    "[2] 执行引擎调度在调度器（Sheduler）中的 Request 并确定下一个需要爬取的Request\n",
    "\n"
   ]
  }
 ],
 "metadata": {
  "kernelspec": {
   "display_name": "Python 3",
   "language": "python",
   "name": "python3"
  },
  "language_info": {
   "codemirror_mode": {
    "name": "ipython",
    "version": 3
   },
   "file_extension": ".py",
   "mimetype": "text/x-python",
   "name": "python",
   "nbconvert_exporter": "python",
   "pygments_lexer": "ipython3",
   "version": "3.7.1"
  }
 },
 "nbformat": 4,
 "nbformat_minor": 2
}
