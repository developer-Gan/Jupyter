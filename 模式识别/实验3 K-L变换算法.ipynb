{
 "cells": [
  {
   "cell_type": "markdown",
   "metadata": {},
   "source": [
    "# 实验3 K-L变换算法"
   ]
  },
  {
   "cell_type": "code",
   "execution_count": 1,
   "metadata": {},
   "outputs": [],
   "source": [
    "import numpy as np"
   ]
  },
  {
   "cell_type": "markdown",
   "metadata": {},
   "source": [
    "实验样本"
   ]
  },
  {
   "cell_type": "code",
   "execution_count": 2,
   "metadata": {},
   "outputs": [],
   "source": [
    "x = [[-5, -5],\n",
    "    [-5, -4],\n",
    "    [-4, -5],\n",
    "    [-5, -6],\n",
    "    [-6, -5],\n",
    "    [5, 5],\n",
    "    [5, 6],\n",
    "    [6, 5],\n",
    "    [5, 4],\n",
    "    [4, 5]]\n",
    "d = 2\n",
    "n = 10"
   ]
  },
  {
   "cell_type": "markdown",
   "metadata": {},
   "source": [
    "## （1）计算样本向量的均值"
   ]
  },
  {
   "cell_type": "code",
   "execution_count": 3,
   "metadata": {},
   "outputs": [],
   "source": [
    "def get_u(x, d, n):\n",
    "    \"\"\"\n",
    "    计算样本向量的均值\n",
    "    x 样本数组\n",
    "    d 样本维度\n",
    "    n 样本个数\n",
    "    return 均值\n",
    "    \"\"\"\n",
    "    SUM = np.mat(np.zeros(d)).T\n",
    "    for i in range(n):\n",
    "        SUM[0,0] += x[i][0]\n",
    "        SUM[1,0] += x[i][1]\n",
    "    return SUM/n"
   ]
  },
  {
   "cell_type": "code",
   "execution_count": 4,
   "metadata": {},
   "outputs": [
    {
     "name": "stdout",
     "output_type": "stream",
     "text": [
      "样本均值向量为：\n",
      " [[0.]\n",
      " [0.]]\n"
     ]
    }
   ],
   "source": [
    "u = get_u(x, d, n)\n",
    "print(\"样本均值向量为：\\n\", u)"
   ]
  },
  {
   "cell_type": "markdown",
   "metadata": {},
   "source": [
    "##       计算协方差矩阵"
   ]
  },
  {
   "cell_type": "code",
   "execution_count": 5,
   "metadata": {},
   "outputs": [],
   "source": [
    "def get_C(x, n, u):\n",
    "    \"\"\"\n",
    "    计算协方差矩阵\n",
    "    x 样本数组\n",
    "    return 协方差矩阵\n",
    "    \"\"\"\n",
    "    X = np.mat(x).T\n",
    "   \n",
    "    return np.cov(X)"
   ]
  },
  {
   "cell_type": "code",
   "execution_count": 6,
   "metadata": {},
   "outputs": [
    {
     "name": "stdout",
     "output_type": "stream",
     "text": [
      "协方差矩阵为：\n",
      " [[28.22222222 27.77777778]\n",
      " [27.77777778 28.22222222]]\n"
     ]
    }
   ],
   "source": [
    "C_x = get_C(x, n, u)\n",
    "print(\"协方差矩阵为：\\n\", C_x)"
   ]
  },
  {
   "cell_type": "markdown",
   "metadata": {},
   "source": [
    "## （2）计算特征值和特征向量"
   ]
  },
  {
   "cell_type": "code",
   "execution_count": 7,
   "metadata": {},
   "outputs": [
    {
     "name": "stdout",
     "output_type": "stream",
     "text": [
      "特征值为：\n",
      " [56.          0.44444444] \n",
      "特征向量为：\n",
      " [[ 0.70710678 -0.70710678]\n",
      " [ 0.70710678  0.70710678]]\n"
     ]
    }
   ],
   "source": [
    "eva, fec = np.linalg.eig(C_x)\n",
    "print(\"特征值为：\\n\", eva, \"\\n特征向量为：\\n\", fec)"
   ]
  },
  {
   "cell_type": "code",
   "execution_count": 8,
   "metadata": {},
   "outputs": [
    {
     "name": "stdout",
     "output_type": "stream",
     "text": [
      "上述特征值排序后的数组下标为： [1 0]\n"
     ]
    }
   ],
   "source": [
    "print(\"上述特征值排序后的数组下标为：\", np.argsort(eva))"
   ]
  },
  {
   "cell_type": "code",
   "execution_count": 9,
   "metadata": {},
   "outputs": [
    {
     "name": "stdout",
     "output_type": "stream",
     "text": [
      "新的变换阵U_new:\n",
      " [[0.70710678]\n",
      " [0.70710678]]\n"
     ]
    }
   ],
   "source": [
    "U_new = np.mat([fec[0, 0], fec[1, 0]]).T\n",
    "print(\"新的变换阵U_new:\\n\", U_new)"
   ]
  },
  {
   "cell_type": "markdown",
   "metadata": {},
   "source": [
    "## 求解新的一维样本"
   ]
  },
  {
   "cell_type": "code",
   "execution_count": 10,
   "metadata": {},
   "outputs": [
    {
     "name": "stdout",
     "output_type": "stream",
     "text": [
      "第 0 个样本K-L变换后的结果： [[-7.07106781]]\n",
      "第 1 个样本K-L变换后的结果： [[-6.36396103]]\n",
      "第 2 个样本K-L变换后的结果： [[-6.36396103]]\n",
      "第 3 个样本K-L变换后的结果： [[-7.77817459]]\n",
      "第 4 个样本K-L变换后的结果： [[-7.77817459]]\n",
      "第 5 个样本K-L变换后的结果： [[7.07106781]]\n",
      "第 6 个样本K-L变换后的结果： [[7.77817459]]\n",
      "第 7 个样本K-L变换后的结果： [[7.77817459]]\n",
      "第 8 个样本K-L变换后的结果： [[6.36396103]]\n",
      "第 9 个样本K-L变换后的结果： [[6.36396103]]\n"
     ]
    }
   ],
   "source": [
    "for i in range(n):\n",
    "    y = U_new.T * np.mat(x[i]).T\n",
    "    print(\"第\", i, \"个样本K-L变换后的结果：\", y)"
   ]
  }
 ],
 "metadata": {
  "kernelspec": {
   "display_name": "Python 3",
   "language": "python",
   "name": "python3"
  },
  "language_info": {
   "codemirror_mode": {
    "name": "ipython",
    "version": 3
   },
   "file_extension": ".py",
   "mimetype": "text/x-python",
   "name": "python",
   "nbconvert_exporter": "python",
   "pygments_lexer": "ipython3",
   "version": "3.7.1"
  }
 },
 "nbformat": 4,
 "nbformat_minor": 2
}
