{
 "cells": [
  {
   "cell_type": "markdown",
   "metadata": {},
   "source": [
    "# 高斯分布拟合"
   ]
  },
  {
   "cell_type": "code",
   "execution_count": 1,
   "metadata": {},
   "outputs": [],
   "source": [
    "import numpy as np\n",
    "import math"
   ]
  },
  {
   "cell_type": "markdown",
   "metadata": {},
   "source": [
    "多维高斯"
   ]
  },
  {
   "cell_type": "markdown",
   "metadata": {},
   "source": [
    "## 把来自两类ω1、ω2的训练样本集 分成与ω1、ω2分别对应的训练样本子集 X1、X2。"
   ]
  },
  {
   "cell_type": "code",
   "execution_count": 2,
   "metadata": {},
   "outputs": [],
   "source": [
    "# 2个类别的3维样本集\n",
    "X1 = [\n",
    "    [-0.4, 0.58, 0.089],  # w1\n",
    "    [-0.31, 0.27, -0.04],\n",
    "    [0.38, 0.055, -0.035],\n",
    "    [-0.15, 0.53, 0.011],\n",
    "    [-0.35, 0.47, 0.034],\n",
    "    \n",
    "    [0.17, 0.69, 0.1],\n",
    "    [-0.011, 0.55, -0.18],\n",
    "    [-0.27, 0.61, 0.12],\n",
    "    [-0.065, 0.49, 0.0012],\n",
    "    [-0.12, 0.054, -0.063],\n",
    "]\n",
    "    \n",
    "X2 = [\n",
    "    [0.83, 1.6, -0.014],  # w2\n",
    "    [1.1, 1.6, 0.48], \n",
    "    [-0.44, -0.41, 0.32],\n",
    "    [0.047, -0.45, 1.4], \n",
    "    [0.28, 0.35, 3.1], \n",
    "    \n",
    "    [-0.39, -0.48, 0.11],\n",
    "    [0.34, -0.079, 0.14], \n",
    "    [-0.3, -0.22, 2.2], \n",
    "    [1.1, 1.2, -0.46], \n",
    "    [0.18, -0.11, -0.49]\n",
    "]\n",
    "\n",
    "N=3 # 每个样本向量的维数\n",
    "\n",
    "n=[10, 10] # 每个训练样本集里样本的个数 "
   ]
  },
  {
   "cell_type": "code",
   "execution_count": 3,
   "metadata": {},
   "outputs": [],
   "source": [
    "# 测试集\n",
    "test = [\n",
    "    [1.40, -0.36, -0.41],\n",
    "    [-0.11, 1.60, 1.51],\n",
    "    [0.52, 1.30, 1.11]\n",
    "]"
   ]
  },
  {
   "cell_type": "markdown",
   "metadata": {},
   "source": [
    "## 计算多维高斯分布拟合的均值向量"
   ]
  },
  {
   "cell_type": "code",
   "execution_count": 4,
   "metadata": {},
   "outputs": [],
   "source": [
    "def get_U(X, N, n):\n",
    "    \"\"\"\n",
    "    求解多维高斯分布拟合的均值向量U\n",
    "    X: 样本集合\n",
    "    N：样本维度\n",
    "    n：样本数量\n",
    "    \n",
    "    return： 本类样本高斯拟合的均值向量U\n",
    "    \n",
    "    \"\"\"\n",
    "    U = np.mat(np.zeros(N)).T    \n",
    "    Xi = np.mat(np.zeros(N)).T    # 把样本转换为向量\n",
    "    for i in range(n):\n",
    "        Xi[0, 0] = X[i][0]\n",
    "        Xi[1, 0] = X[i][1]\n",
    "        Xi[2, 0] = X[i][2]\n",
    "        U = U + Xi\n",
    "        \n",
    "    U = U / n \n",
    "    return U"
   ]
  },
  {
   "cell_type": "markdown",
   "metadata": {},
   "source": [
    "## 计算的到样本的均值向量"
   ]
  },
  {
   "cell_type": "code",
   "execution_count": 5,
   "metadata": {},
   "outputs": [
    {
     "name": "stdout",
     "output_type": "stream",
     "text": [
      " 第一类样本的均值向量U1:\n",
      " [[-0.1126 ]\n",
      " [ 0.4299 ]\n",
      " [ 0.00372]] \n",
      " 第二类样本的均值向量U2:\n",
      " [[0.2747]\n",
      " [0.3001]\n",
      " [0.6786]]\n"
     ]
    }
   ],
   "source": [
    "U1 = get_U(X1, N, n[0])\n",
    "U2 = get_U(X2, N, n[1])\n",
    "print(\" 第一类样本的均值向量U1:\\n\", U1, \"\\n\", \"第二类样本的均值向量U2:\\n\", U2)"
   ]
  },
  {
   "cell_type": "markdown",
   "metadata": {},
   "source": [
    "## 计算多维高斯分布拟合的方差"
   ]
  },
  {
   "cell_type": "code",
   "execution_count": 6,
   "metadata": {},
   "outputs": [],
   "source": [
    "def get_MV(U, X, N, n):\n",
    "    \"\"\"\n",
    "    求解多维高斯分布拟合的方差协矩阵MV\n",
    "    U：本类样本高斯拟合的均值向量\n",
    "    X：样本集合\n",
    "    N：样本维度\n",
    "    n：样本数量\n",
    "    \n",
    "    return：多为高斯分布拟合的协方差矩阵MV\n",
    "    \"\"\"\n",
    "    MV = np.mat(np.zeros((N,N)))\n",
    "    Xi = np.mat(np.zeros(N)).T    # 把样本转换为向量\n",
    "    for i in range(n):\n",
    "        Xi[0, 0] = X[i][0]\n",
    "        Xi[1, 0] = X[i][1]\n",
    "        Xi[2, 0] = X[i][2]\n",
    "        MV += (Xi - U) * ((Xi - U).T)\n",
    "        \n",
    "    return MV / n"
   ]
  },
  {
   "cell_type": "code",
   "execution_count": 7,
   "metadata": {},
   "outputs": [
    {
     "name": "stdout",
     "output_type": "stream",
     "text": [
      "第一类样本的方差MV1：\n",
      " [[ 0.05392584 -0.01465126 -0.00517993]\n",
      " [-0.01465126  0.04597009  0.00850987]\n",
      " [-0.00517993  0.00850987  0.00726551]] \n",
      "第二类样本的方差MV2：\n",
      " [[ 0.30186081  0.40474153 -0.18042342]\n",
      " [ 0.40474153  0.64496409 -0.20130386]\n",
      " [-0.18042342 -0.20130386  1.26214164]]\n"
     ]
    }
   ],
   "source": [
    "MV1 = get_MV(U1, X1, N, n[0])\n",
    "MV2 = get_MV(U2, X2, N, n[1])\n",
    "print(\"第一类样本的方差MV1：\\n\", MV1, \"\\n第二类样本的方差MV2：\\n\", MV2)"
   ]
  },
  {
   "cell_type": "markdown",
   "metadata": {},
   "source": [
    "## 通过计算得到的均值和方差带入高斯公式"
   ]
  },
  {
   "cell_type": "code",
   "execution_count": 8,
   "metadata": {},
   "outputs": [],
   "source": [
    "def  get_p(U, MV, x, N):\n",
    "    \"\"\"\n",
    "    求解高斯分布拟合下的概率密度p\n",
    "    U：均值向量\n",
    "    MV：协方差矩阵\n",
    "    x：测试样本\n",
    "    N：样本维度\n",
    "\n",
    "    reurn：该类别的高斯分布拟合下的概率密度p\n",
    "    \"\"\"\n",
    "    X = np.mat(np.zeros(N)).T    # 把样本转换为向量\n",
    "    X[0, 0] = x[0]\n",
    "    X[1, 0] = x[1]\n",
    "    X[2, 0] = x[2]\n",
    "    \n",
    "    return (1 / (math.sqrt(2 * math.pi))**N * math.sqrt(np.linalg.det(MV)) * math.exp(-0.5 * (X - U).T * MV.I * (X - U)))"
   ]
  },
  {
   "cell_type": "code",
   "execution_count": 14,
   "metadata": {},
   "outputs": [
    {
     "name": "stdout",
     "output_type": "stream",
     "text": [
      "第 1 个测试样本: 第一类高斯拟合的概率密度p1： 5.870505044006542e-16      第二类高斯拟合的概率密度为p2： 1.378013350288084e-13\n",
      "第 2 个测试样本: 第一类高斯拟合的概率密度p1： 2.9822974290384027e-78      第二类高斯拟合的概率密度为p2： 9.266866584543711e-10\n",
      "第 3 个测试样本: 第一类高斯拟合的概率密度p1： 6.797280772825852e-50      第二类高斯拟合的概率密度为p2： 0.0011426678515274948\n"
     ]
    }
   ],
   "source": [
    "for i in range(3):\n",
    "    p1 = get_p(U1, MV1, test[i], N)\n",
    "    p2 = get_p(U2, MV2, test[i], N)\n",
    "    if p2 > p1:\n",
    "        print(\"第\", i + 1, \"个测试样本:\",\"第一类高斯拟合的概率密度p1：\", p1, \"     第二类高斯拟合的概率密度为p2：\", p2)\n",
    "    "
   ]
  },
  {
   "cell_type": "code",
   "execution_count": null,
   "metadata": {},
   "outputs": [],
   "source": []
  }
 ],
 "metadata": {
  "kernelspec": {
   "display_name": "Python 3",
   "language": "python",
   "name": "python3"
  },
  "language_info": {
   "codemirror_mode": {
    "name": "ipython",
    "version": 3
   },
   "file_extension": ".py",
   "mimetype": "text/x-python",
   "name": "python",
   "nbconvert_exporter": "python",
   "pygments_lexer": "ipython3",
   "version": "3.7.1"
  }
 },
 "nbformat": 4,
 "nbformat_minor": 2
}
