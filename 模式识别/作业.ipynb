{
 "cells": [
  {
   "cell_type": "code",
   "execution_count": 1,
   "metadata": {},
   "outputs": [],
   "source": [
    "import numpy as np\n",
    "from matplotlib import pyplot as plt\n",
    "import matplotlib\n",
    "import math"
   ]
  },
  {
   "cell_type": "code",
   "execution_count": 2,
   "metadata": {},
   "outputs": [],
   "source": [
    "X1 = [\n",
    "    [1, 0],\n",
    "    [0, 1],\n",
    "    [0, -1],\n",
    "    [2, 0]\n",
    "]\n",
    "X2 = [\n",
    "    [0, 0],\n",
    "    [0, 2],\n",
    "    [0, -2],\n",
    "    [-2, 0]\n",
    "]\n",
    "\n",
    "n = [4, 4]"
   ]
  },
  {
   "cell_type": "code",
   "execution_count": 3,
   "metadata": {},
   "outputs": [],
   "source": [
    "def getd(x1, x2):\n",
    "    return math.sqrt((x1[0]-x2[0])**2 + (x1[1]-x2[1])**2)"
   ]
  },
  {
   "cell_type": "code",
   "execution_count": 4,
   "metadata": {},
   "outputs": [],
   "source": [
    "def line(num, X1, X2, n):\n",
    "    x1 = 100\n",
    "    x2 = 100\n",
    "    for i in range(n[0]):\n",
    "        d = getd(X1[i],num)\n",
    "        if(x1 > d):\n",
    "            x1 = d\n",
    "    for i in range(n[1]):\n",
    "        d = getd(X2[i],num)\n",
    "        if(x2 > d):\n",
    "            x2 = d\n",
    "#    print(x1, \"   \", x2)\n",
    "    if(x1 - x2 < 0.001):\n",
    "#        print(num)\n",
    "        return True\n",
    "    return False"
   ]
  },
  {
   "cell_type": "code",
   "execution_count": 5,
   "metadata": {},
   "outputs": [
    {
     "data": {
      "text/plain": [
       "True"
      ]
     },
     "execution_count": 5,
     "metadata": {},
     "output_type": "execute_result"
    }
   ],
   "source": [
    "line([1.5, 0], X1, X2, n)"
   ]
  },
  {
   "cell_type": "code",
   "execution_count": 6,
   "metadata": {},
   "outputs": [
    {
     "data": {
      "text/plain": [
       "Text(0, 0.5, 'y')"
      ]
     },
     "execution_count": 6,
     "metadata": {},
     "output_type": "execute_result"
    },
    {
     "data": {
      "image/png": "[encoded data removed]",
      "text/plain": [
       "<Figure size 432x288 with 1 Axes>"
      ]
     },
     "metadata": {
      "needs_background": "light"
     },
     "output_type": "display_data"
    }
   ],
   "source": [
    "x = np.zeros(n[0])\n",
    "y = np.zeros(n[0])\n",
    "\n",
    "\n",
    "\n",
    "for i in np.arange(-2, 2, 0.1):\n",
    "    for j in np.arange(-2, 2, 0.1):\n",
    "#        print(i,j)\n",
    "        if(line([i,j], X1, X2, n)):\n",
    "            plt.plot(i, j, '.g')\n",
    "for i in range(n[1]):\n",
    "    x[i] = X2[i][0]\n",
    "    y[i] = X2[i][1]\n",
    "plt.plot(x, y, '.r')\n",
    "\n",
    "for i in range(n[0]):\n",
    "    x[i] = X1[i][0]\n",
    "    y[i] = X1[i][1]\n",
    "plt.plot(x, y, '.b')\n",
    "\n",
    "\n",
    "plt.xlabel(\"x\")\n",
    "plt.ylabel(\"y\")"
   ]
  }
 ],
 "metadata": {
  "kernelspec": {
   "display_name": "Python 3",
   "language": "python",
   "name": "python3"
  },
  "language_info": {
   "codemirror_mode": {
    "name": "ipython",
    "version": 3
   },
   "file_extension": ".py",
   "mimetype": "text/x-python",
   "name": "python",
   "nbconvert_exporter": "python",
   "pygments_lexer": "ipython3",
   "version": "3.7.1"
  }
 },
 "nbformat": 4,
 "nbformat_minor": 2
}
