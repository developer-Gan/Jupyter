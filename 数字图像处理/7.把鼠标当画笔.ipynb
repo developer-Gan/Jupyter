{
 "cells": [
  {
   "cell_type": "markdown",
   "metadata": {},
   "source": [
    "# 把鼠标当画笔"
   ]
  },
  {
   "cell_type": "markdown",
   "metadata": {},
   "source": [
    "## 简单演示"
   ]
  },
  {
   "cell_type": "markdown",
   "metadata": {},
   "source": [
    "查看所有被支持的鼠标事件"
   ]
  },
  {
   "cell_type": "code",
   "execution_count": 4,
   "metadata": {},
   "outputs": [
    {
     "name": "stdout",
     "output_type": "stream",
     "text": [
      "['EVENT_FLAG_ALTKEY', 'EVENT_FLAG_CTRLKEY', 'EVENT_FLAG_LBUTTON', 'EVENT_FLAG_MBUTTON', 'EVENT_FLAG_RBUTTON', 'EVENT_FLAG_SHIFTKEY', 'EVENT_LBUTTONDBLCLK', 'EVENT_LBUTTONDOWN', 'EVENT_LBUTTONUP', 'EVENT_MBUTTONDBLCLK', 'EVENT_MBUTTONDOWN', 'EVENT_MBUTTONUP', 'EVENT_MOUSEHWHEEL', 'EVENT_MOUSEMOVE', 'EVENT_MOUSEWHEEL', 'EVENT_RBUTTONDBLCLK', 'EVENT_RBUTTONDOWN', 'EVENT_RBUTTONUP']\n"
     ]
    }
   ],
   "source": [
    "# -*- coding: utf-8 -*-\n",
    "import cv2\n",
    "\n",
    "events = [i for i in dir(cv2) if \"EVENT\" in i]\n",
    "print (events)"
   ]
  },
  {
   "cell_type": "markdown",
   "metadata": {},
   "source": [
    "在双击过的地方绘\n",
    "制一个圆圈"
   ]
  },
  {
   "cell_type": "code",
   "execution_count": 6,
   "metadata": {},
   "outputs": [],
   "source": [
    "import cv2\n",
    "import numpy as np\n",
    "\n",
    "# 鼠标回调函数\n",
    "def draw_circle(event, x, y, flays, param):\n",
    "    if event == cv2.EVENT_LBUTTONDBLCLK:\n",
    "        cv2.circle(img, (x, y), 100, (255, 0, 0), -1)\n",
    "\n",
    "# 创建图像与窗口并将窗口与回调函数绑定        \n",
    "img = np.zeros((512, 512, 3), np.uint8)\n",
    "cv2.namedWindow(\"image\")\n",
    "cv2.setMouseCallback(\"image\", draw_circle)\n",
    "\n",
    "while(1):\n",
    "    cv2.imshow(\"image\", img)\n",
    "    if cv2.waitKey(20) & 0xFF == 27:\n",
    "        break\n",
    "\n",
    "cv2.destroyAllWindows()"
   ]
  },
  {
   "cell_type": "markdown",
   "metadata": {},
   "source": [
    "根据我\n",
    "们选择的模式在拖动鼠标时绘制矩形或者是圆圈（就像画图程序中一样）。"
   ]
  },
  {
   "cell_type": "code",
   "execution_count": 1,
   "metadata": {},
   "outputs": [],
   "source": [
    "import cv2\n",
    "import numpy as np\n",
    "\n",
    "# 当鼠标按下时变为True\n",
    "drawing = False\n",
    "# 如果 mode 为 True 绘制矩形，按下 m 编程绘制曲线\n",
    "mode = True\n",
    "ix, iy = -1, -1\n",
    "\n",
    "# 创建回调函数\n",
    "def draw_circle(event, x, y, flags, param):\n",
    "    global ix, iy, drawing, mode\n",
    "    # 按下鼠标左键时返回起始位置坐标\n",
    "    if event == cv2.EVENT_LBUTTONDOWN:\n",
    "        drawing = True\n",
    "        ix, iy = x, y\n",
    "    # 当鼠标左键按下并移动。event 查看移动， flag 按键标记\n",
    "    elif event == cv2.EVENT_MOUSEMOVE and flags == cv2.EVENT_FLAG_LBUTTON:\n",
    "        if drawing == True:\n",
    "            if mode == True:\n",
    "                # 绘制矩形\n",
    "                cv2.rectangle(img, (ix, iy), (x, y), (0, 255, 0), -1) # -1 实心，如果为正，代表画笔粗细\n",
    "            else:\n",
    "                # 绘制圆圈， 小圆点连成线 3， 代表画笔的粗细\n",
    "                cv2.circle(img, (x, y), 3, (0, 0, 255), -1) \n",
    "                # 下面著时代哦的代码是起始点为圆心，起点到终点为半径\n",
    "#                 r = int(np.sqrt((x - ix)**2 + (y - iy)**2))\n",
    "#                 cv2.circle(img, (x, y), r,(0, 0, 255), -1)\n",
    "    # 当鼠标松开停止绘画\n",
    "    elif event == cv2.EVENT_LBUTTONUP:\n",
    "        drawing = False"
   ]
  },
  {
   "cell_type": "code",
   "execution_count": 3,
   "metadata": {},
   "outputs": [],
   "source": [
    "img = np.zeros((512, 512, 3), np.uint8)\n",
    "cv2.namedWindow(\"image\")\n",
    "cv2.setMouseCallback(\"image\", draw_circle)\n",
    "\n",
    "while(1):\n",
    "    cv2.imshow(\"image\", img)\n",
    "    k=cv2.waitKey(1)&0xFF\n",
    "    if k==ord('m'):\n",
    "        mode=not mode\n",
    "    elif k==27:\n",
    "        break\n",
    "\n",
    "cv2.destroyAllWindows()"
   ]
  }
 ],
 "metadata": {
  "kernelspec": {
   "display_name": "Python 3",
   "language": "python",
   "name": "python3"
  },
  "language_info": {
   "codemirror_mode": {
    "name": "ipython",
    "version": 3
   },
   "file_extension": ".py",
   "mimetype": "text/x-python",
   "name": "python",
   "nbconvert_exporter": "python",
   "pygments_lexer": "ipython3",
   "version": "3.7.1"
  }
 },
 "nbformat": 4,
 "nbformat_minor": 2
}
