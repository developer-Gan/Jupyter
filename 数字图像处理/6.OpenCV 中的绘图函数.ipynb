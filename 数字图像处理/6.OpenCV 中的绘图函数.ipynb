{
 "cells": [
  {
   "cell_type": "markdown",
   "metadata": {},
   "source": [
    "# OpenCV 中的绘图函数"
   ]
  },
  {
   "cell_type": "markdown",
   "metadata": {},
   "source": [
    "## 画线"
   ]
  },
  {
   "cell_type": "markdown",
   "metadata": {},
   "source": [
    "matplotblib 和 cv 的显示结果不一样，RGB和BGR"
   ]
  },
  {
   "cell_type": "code",
   "execution_count": 7,
   "metadata": {},
   "outputs": [
    {
     "data": {
      "image/png": "[encoded data removed]",
      "text/plain": [
       "<Figure size 432x288 with 1 Axes>"
      ]
     },
     "metadata": {},
     "output_type": "display_data"
    }
   ],
   "source": [
    "# -*- coding: utf-8 -*-\n",
    "import numpy as np\n",
    "import cv2 \n",
    "from matplotlib import pyplot as plt\n",
    "\n",
    "img = np.zeros((512,512,3), np.uint8) # 512*512, 3通道， 无符整形\n",
    "cv2.line(img, (0,0), (511, 511), (255, 0, 0), 5) # 5 线的粗细\n",
    "plt.imshow(img)\n",
    "plt.xticks([]), plt.yticks([]) # 隐藏x， y， 坐标值\n",
    "plt.show()"
   ]
  },
  {
   "cell_type": "markdown",
   "metadata": {},
   "source": [
    "## 画矩形"
   ]
  },
  {
   "cell_type": "code",
   "execution_count": 8,
   "metadata": {},
   "outputs": [
    {
     "data": {
      "image/png": "[encoded data removed]",
      "text/plain": [
       "<Figure size 432x288 with 1 Axes>"
      ]
     },
     "metadata": {},
     "output_type": "display_data"
    }
   ],
   "source": [
    "img = np.zeros((512,512,3), np.uint8) # 512*512, 3通道， 无符整形\n",
    "cv2.rectangle(img, (384, 0), (510, 128), (0, 255, 0), 3) # 3 线的粗细\n",
    "plt.imshow(img)\n",
    "plt.xticks([]), plt.yticks([]) # 隐藏x， y， 坐标值\n",
    "plt.show()"
   ]
  },
  {
   "cell_type": "markdown",
   "metadata": {},
   "source": [
    "## 画椭圆"
   ]
  },
  {
   "cell_type": "code",
   "execution_count": 9,
   "metadata": {},
   "outputs": [
    {
     "data": {
      "image/png": "[encoded data removed]",
      "text/plain": [
       "<Figure size 432x288 with 1 Axes>"
      ]
     },
     "metadata": {},
     "output_type": "display_data"
    }
   ],
   "source": [
    "img = np.zeros((512,512,3), np.uint8) # 512*512, 3通道， 无符整形\n",
    "cv2.ellipse(img,(256, 256), (100, 50), 0, 0, 360, 255, -1)\n",
    "plt.imshow(img)\n",
    "plt.xticks([]), plt.yticks([]) # 隐藏x， y， 坐标值\n",
    "plt.show()"
   ]
  },
  {
   "cell_type": "markdown",
   "metadata": {},
   "source": [
    "## 画多边形"
   ]
  },
  {
   "cell_type": "markdown",
   "metadata": {},
   "source": [
    "## 在图片上添加文字"
   ]
  },
  {
   "cell_type": "code",
   "execution_count": 13,
   "metadata": {},
   "outputs": [
    {
     "data": {
      "image/png": "[encoded data removed]",
      "text/plain": [
       "<Figure size 432x288 with 1 Axes>"
      ]
     },
     "metadata": {},
     "output_type": "display_data"
    }
   ],
   "source": [
    "img = np.zeros((512,512,3), np.uint8) # 512*512, 3通道， 无符整形\n",
    "font = cv2.FONT_HERSHEY_SIMPLEX\n",
    "cv2.putText(img, \"Opencv\", (10, 500), font, 4, (255, 255, 255), 2)\n",
    "plt.imshow(img)\n",
    "plt.xticks([]), plt.yticks([]) # 隐藏x， y， 坐标值\n",
    "plt.show()"
   ]
  }
 ],
 "metadata": {
  "kernelspec": {
   "display_name": "Python 3",
   "language": "python",
   "name": "python3"
  },
  "language_info": {
   "codemirror_mode": {
    "name": "ipython",
    "version": 3
   },
   "file_extension": ".py",
   "mimetype": "text/x-python",
   "name": "python",
   "nbconvert_exporter": "python",
   "pygments_lexer": "ipython3",
   "version": "3.7.1"
  }
 },
 "nbformat": 4,
 "nbformat_minor": 2
}
