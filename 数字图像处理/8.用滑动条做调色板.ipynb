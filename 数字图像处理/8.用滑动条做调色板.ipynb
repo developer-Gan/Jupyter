{
 "cells": [
  {
   "cell_type": "markdown",
   "metadata": {},
   "source": [
    "# 用滑动条做调色板"
   ]
  },
  {
   "cell_type": "markdown",
   "metadata": {},
   "source": [
    "## 代码示例"
   ]
  },
  {
   "cell_type": "markdown",
   "metadata": {},
   "source": [
    "现在我们来创建一个简单的程序：通过调节滑动条来设定画板颜色。我们\n",
    "要创建一个窗口来显示显色，还有三个滑动条来设置 B，G，R 的颜色。当我们\n",
    "滑动滚动条是窗口的颜色也会发生相应改变。默认情况下窗口的起始颜色为黑。\n",
    "cv2.getTrackbarPos() 函数的一个参数是滑动条的名字，第二个参数\n",
    "\n",
    "是滑动条被放置窗口的名字，第三个参数是滑动条的默认位置。第四个参数是\n",
    "滑动条的最大值，第五个函数是回调函数，每次滑动条的滑动都会调用回调函\n",
    "数。回调函数通常都会含有一个默认参数，就是滑动条的位置。在本例中这个\n",
    "函数不用做任何事情，我们只需要 pass 就可以了。\n",
    "\n",
    "滑动条的另外一个重要应用就是用作转换按钮。默认情况下 OpenCV 本\n",
    "身不带有按钮函数。所以我们使用滑动条来代替。在我们的程序中，我们要创\n",
    "建一个转换按钮，只有当装换按钮指向 ON 时，滑动条的滑动才有用，否则窗\n",
    "户口都是黑的。"
   ]
  },
  {
   "cell_type": "code",
   "execution_count": 6,
   "metadata": {},
   "outputs": [],
   "source": [
    "# -*- coding: utf-8 -*-\n",
    "import cv2\n",
    "import numpy as np\n",
    "\n",
    "def nothing(x):\n",
    "    pass\n",
    "\n",
    "# 创建一副黑色图像\n",
    "img = np.zeros((300, 512, 3), np.uint8)\n",
    "cv2.namedWindow(\"image\")\n",
    "\n",
    "cv2.createTrackbar(\"R\", \"image\", 0, 255, nothing)\n",
    "cv2.createTrackbar(\"G\", \"image\", 0, 255, nothing)\n",
    "cv2.createTrackbar(\"B\", \"image\", 0, 255, nothing)\n",
    "\n",
    "switch = \"0:OFF\\n1:ON\"\n",
    "cv2.createTrackbar(switch, \"image\", 0, 1, nothing)\n",
    "\n",
    "while(1):\n",
    "    cv2.imshow(\"image\", img)\n",
    "    k = cv2.waitKey(1) & 0xFF\n",
    "    if k == 27:\n",
    "        break\n",
    "        \n",
    "    r = cv2.getTrackbarPos(\"R\", \"image\")\n",
    "    g = cv2.getTrackbarPos(\"G\", \"image\")\n",
    "    b = cv2.getTrackbarPos(\"B\", \"image\")\n",
    "    s=cv2.getTrackbarPos(switch,'image')\n",
    "    if s==0:\n",
    "        img[:]=0\n",
    "    else:\n",
    "        img[:]=[b,g,r]\n",
    "        \n",
    "cv2.destroyAllWindows()"
   ]
  }
 ],
 "metadata": {
  "kernelspec": {
   "display_name": "Python 3",
   "language": "python",
   "name": "python3"
  },
  "language_info": {
   "codemirror_mode": {
    "name": "ipython",
    "version": 3
   },
   "file_extension": ".py",
   "mimetype": "text/x-python",
   "name": "python",
   "nbconvert_exporter": "python",
   "pygments_lexer": "ipython3",
   "version": "3.7.1"
  }
 },
 "nbformat": 4,
 "nbformat_minor": 2
}
