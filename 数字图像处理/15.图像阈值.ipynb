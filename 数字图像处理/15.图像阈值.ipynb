{
 "cells": [
  {
   "cell_type": "markdown",
   "metadata": {},
   "source": [
    "# 图像阈值"
   ]
  },
  {
   "cell_type": "markdown",
   "metadata": {},
   "source": [
    " 将要学习的函数有 cv2.threshold，cv2.adaptiveThreshold 等"
   ]
  },
  {
   "cell_type": "markdown",
   "metadata": {},
   "source": [
    "## 简单阈值"
   ]
  },
  {
   "cell_type": "markdown",
   "metadata": {},
   "source": [
    "函数就是 cv2.threshhold()。这个函数的第一个参数就是原图像，原图\n",
    "像应该是灰度图。第二个参数就是用来对像素值进行分类的阈值。第三个参数\n",
    "就是当像素值高于（有时是小于）阈值时应该被赋予的新的像素值。\n",
    "\n",
    "• cv2.THRESH_BINARY\n",
    "\n",
    "• cv2.THRESH_BINARY_INV\n",
    "\n",
    "• cv2.THRESH_TRUNC\n",
    "\n",
    "• cv2.THRESH_TOZERO\n",
    "\n",
    "• cv2.THRESH_TOZERO_INV"
   ]
  },
  {
   "cell_type": "markdown",
   "metadata": {},
   "source": [
    "这个函数有两个返回值，第一个为 retVal,第二个就是\n",
    "阈值化之后的结果图像"
   ]
  },
  {
   "cell_type": "code",
   "execution_count": 8,
   "metadata": {},
   "outputs": [
    {
     "data": {
      "image/png": "[encoded data removed]",
      "text/plain": [
       "<Figure size 432x288 with 1 Axes>"
      ]
     },
     "metadata": {
      "needs_background": "light"
     },
     "output_type": "display_data"
    }
   ],
   "source": [
    "# -*- coding: utf-8 -*-\n",
    "import cv2\n",
    "import numpy as np\n",
    "from matplotlib import pyplot as plt\n",
    "\n",
    "img = cv2.imread(\"img_bin.png\", 0)\n",
    "ret, thresh1 = cv2.threshold(img, 127, 255, cv2.THRESH_BINARY)\n",
    "\n",
    "titles = [\"Original Image\", \"BINARY\", \"BINARY_INV\", \"TRUNC\", \"TOZERO\", \"TOZERO_INV\"]\n",
    "\n",
    "plt.imshow(thresh1, \"gray\")\n",
    "plt.show()"
   ]
  },
  {
   "cell_type": "code",
   "execution_count": null,
   "metadata": {},
   "outputs": [],
   "source": []
  }
 ],
 "metadata": {
  "kernelspec": {
   "display_name": "Python 3",
   "language": "python",
   "name": "python3"
  },
  "language_info": {
   "codemirror_mode": {
    "name": "ipython",
    "version": 3
   },
   "file_extension": ".py",
   "mimetype": "text/x-python",
   "name": "python",
   "nbconvert_exporter": "python",
   "pygments_lexer": "ipython3",
   "version": "3.7.1"
  }
 },
 "nbformat": 4,
 "nbformat_minor": 2
}
