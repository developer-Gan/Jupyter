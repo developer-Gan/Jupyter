{
 "cells": [
  {
   "cell_type": "markdown",
   "metadata": {},
   "source": [
    "# 程序性能检测及优化"
   ]
  },
  {
   "cell_type": "markdown",
   "metadata": {},
   "source": [
    "## 使用 OpenCV 检测程序效率"
   ]
  },
  {
   "cell_type": "markdown",
   "metadata": {},
   "source": [
    "cv2.getTickCount 函数返回从参考点到这个函数被执行的时钟数。所\n",
    "以当你在一个函数执行前后都调用它的话，你就会得到这个函数的执行时间\n",
    "（时钟数）。\n",
    "\n",
    "cv2.getTickFrequency 返回时钟频率，或者说每秒钟的时钟数。所以\n",
    "你可以按照下面的方式得到一个函数运行了多少秒："
   ]
  },
  {
   "cell_type": "code",
   "execution_count": 2,
   "metadata": {},
   "outputs": [
    {
     "data": {
      "text/plain": [
       "3.094836610655132e-05"
      ]
     },
     "execution_count": 2,
     "metadata": {},
     "output_type": "execute_result"
    }
   ],
   "source": [
    "import cv2\n",
    "import numpy as np\n",
    "\n",
    "e1 = cv2.getTickCount()\n",
    "e2 = cv2.getTickCount()\n",
    "time = (e2 - e1) / cv2.getTickFrequency()\n",
    "time"
   ]
  },
  {
   "cell_type": "markdown",
   "metadata": {},
   "source": [
    "## OpenCV 中的默认优化"
   ]
  },
  {
   "cell_type": "markdown",
   "metadata": {},
   "source": [
    "使用函数 cv2.useOptimized()\n",
    "来查看优化是否被开启了，\n",
    "\n",
    "使用函数 cv2.setUseOptimized() 来开启优化"
   ]
  },
  {
   "cell_type": "code",
   "execution_count": 10,
   "metadata": {},
   "outputs": [
    {
     "data": {
      "text/plain": [
       "False"
      ]
     },
     "execution_count": 10,
     "metadata": {},
     "output_type": "execute_result"
    }
   ],
   "source": [
    "import cv2\n",
    "import numpy as np\n",
    "\n",
    "cv2.useOptimized()"
   ]
  },
  {
   "cell_type": "code",
   "execution_count": 14,
   "metadata": {},
   "outputs": [
    {
     "name": "stdout",
     "output_type": "stream",
     "text": [
      "37.7 ms ± 947 µs per loop (mean ± std. dev. of 7 runs, 10 loops each)\n"
     ]
    }
   ],
   "source": [
    "img = cv2.imread(\"lena.jpg\")\n",
    "%timeit res = cv2.medianBlur(img, 49)"
   ]
  },
  {
   "cell_type": "code",
   "execution_count": 15,
   "metadata": {},
   "outputs": [
    {
     "data": {
      "text/plain": [
       "False"
      ]
     },
     "execution_count": 15,
     "metadata": {},
     "output_type": "execute_result"
    }
   ],
   "source": [
    "cv2.setUseOptimized(False)\n",
    "cv2.useOptimized()"
   ]
  },
  {
   "cell_type": "code",
   "execution_count": 16,
   "metadata": {},
   "outputs": [
    {
     "name": "stdout",
     "output_type": "stream",
     "text": [
      "37.8 ms ± 1.43 ms per loop (mean ± std. dev. of 7 runs, 10 loops each)\n"
     ]
    }
   ],
   "source": [
    "%timeit res = cv2.medianBlur(img,49)"
   ]
  },
  {
   "cell_type": "markdown",
   "metadata": {},
   "source": [
    "## 在 IPython 中检测程序效率"
   ]
  },
  {
   "cell_type": "markdown",
   "metadata": {},
   "source": [
    "般情况下 OpenCV 的函数要比 Numpy 函数快。所以对于相同的操\n",
    "作最好使用 OpenCV 的函数。当然也有例外，尤其是当使用 Numpy 对视图\n",
    "（而非复制）进行操作时。"
   ]
  },
  {
   "cell_type": "markdown",
   "metadata": {},
   "source": [
    "## 效率优化技术"
   ]
  },
  {
   "cell_type": "markdown",
   "metadata": {},
   "source": [
    "有些技术和编程方法可以让我们最大的发挥 Python 和 Numpy 的威力。\n",
    "我们这里仅仅提一下相关的，你可以通过超链接查找更多详细信息。我们要说\n",
    "的最重要的一点是：首先用简单的方式实现你的算法（结果正确最重要），当结\n",
    "果正确后，再使用上面的提到的方法找到程序的瓶颈来优化它。\n",
    "\n",
    "1. 尽量避免使用循环，尤其双层三层循环，它们天生就是非常慢的。\n",
    "\n",
    "2. 算法中尽量使用向量操作，因为 Numpy 和 OpenCV 都对向量操作进行\n",
    "了优化。\n",
    "\n",
    "3. 利用高速缓存一致性。\n",
    "\n",
    "4. 没有必要的话就不要复制数组。使用视图来代替复制。数组复制是非常浪\n",
    "费资源的"
   ]
  },
  {
   "cell_type": "markdown",
   "metadata": {},
   "source": [
    "就算进行了上述优化，如果你的程序还是很慢，或者说大的训话不可避免的话，\n",
    "你你应该尝试使用其他的包，比如说 Cython，来加速你的程序"
   ]
  },
  {
   "cell_type": "markdown",
   "metadata": {},
   "source": [
    "更多资源\n",
    "\n",
    "    Python Optimization Techniques https://wiki.python.org/moin/PythonSpeed/PerformanceTips\n",
    "    \n",
    "    Scipy Lecture Notes - Advanced Numpy\n",
    "    \n",
    "    Timing and Profiling in IPython"
   ]
  },
  {
   "cell_type": "markdown",
   "metadata": {},
   "source": [
    "能尽量用，尽量用：效率比较\n",
    "\n",
    "用 map 处理简单循环 > 用 for in 循环\n",
    "\n",
    "用内置函数 > 用外包函数\n",
    "\n",
    "方法内用 for > for 内用方法\n",
    "\n",
    " 用于简单计算 + - > * / << >>\n",
    "\n",
    "减少程序消耗，只用一次的 if 判断尽量避免在 for 中使用"
   ]
  }
 ],
 "metadata": {
  "kernelspec": {
   "display_name": "Python 3",
   "language": "python",
   "name": "python3"
  },
  "language_info": {
   "codemirror_mode": {
    "name": "ipython",
    "version": 3
   },
   "file_extension": ".py",
   "mimetype": "text/x-python",
   "name": "python",
   "nbconvert_exporter": "python",
   "pygments_lexer": "ipython3",
   "version": "3.7.1"
  }
 },
 "nbformat": 4,
 "nbformat_minor": 2
}
