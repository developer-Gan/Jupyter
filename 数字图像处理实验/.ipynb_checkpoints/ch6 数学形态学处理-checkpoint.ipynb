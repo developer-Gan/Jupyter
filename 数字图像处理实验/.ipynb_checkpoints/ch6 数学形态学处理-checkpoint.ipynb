{
 "cells": [
  {
   "cell_type": "markdown",
   "metadata": {},
   "source": [
    "# 数学形态学处理"
   ]
  },
  {
   "cell_type": "code",
   "execution_count": 1,
   "metadata": {},
   "outputs": [
    {
     "name": "stdout",
     "output_type": "stream",
     "text": [
      "该图片的尺寸： (347, 377)\n"
     ]
    }
   ],
   "source": [
    "# -*- conding: utf-8 -*-\n",
    "import cv2\n",
    "import numpy as np\n",
    "\n",
    "img = cv2.imread(\"triangle.jpg\", 0)\n",
    "ret, img_binary = cv2.threshold(img, 127, 255 ,cv2.THRESH_BINARY_INV) # 变成二值图\n",
    "\n",
    "print(\"该图片的尺寸：\", img.shape)"
   ]
  },
  {
   "cell_type": "markdown",
   "metadata": {},
   "source": [
    "## 膨胀操作："
   ]
  },
  {
   "cell_type": "code",
   "execution_count": 2,
   "metadata": {},
   "outputs": [],
   "source": [
    "def inflate(img, struct, x, y):\n",
    "    \"\"\"\n",
    "    膨胀操作， 不影响原图\n",
    "    img - 操作图像\n",
    "    struct - 结构元\n",
    "    x， y - 结构元原点坐标\n",
    "    return - 膨胀操作后的图片\n",
    "    \"\"\"\n",
    "    img_rows, img_cols = img.shape\n",
    "    struct_rows, struct_cols = struct.shape\n",
    "    img_ift = np.zeros((img_rows, img_cols), np.uint8)\n",
    "    for i in range(img_rows):    # 遍历图像\n",
    "        for j in range(img_cols): \n",
    "            if img.item(i, j) == 255:    # 若该点为前景\n",
    "#                 print(\"原图发现前景：\", i, j, img.item(i, j))\n",
    "                for k in range(struct_rows):    # 遍历结构元\n",
    "                    for l in range(struct_cols):\n",
    "                        if struct.item(k, l) == 1:    # 找到结构元前景\n",
    "                            x1 = i + (k - x)    \n",
    "                            y1 = j + (l - y)\n",
    "#                             print(\"应该被改成前景点：\", x1, y1)\n",
    "                            if x1 >= 0 and x1 < img_rows and y1 >= 0 and y1 < img_cols:    # 越界判断\n",
    "                                img_ift.itemset((x1, y1), 255)    # 直接赋值\n",
    "    return img_ift"
   ]
  },
  {
   "cell_type": "markdown",
   "metadata": {},
   "source": [
    "## 腐蚀操作："
   ]
  },
  {
   "cell_type": "code",
   "execution_count": 3,
   "metadata": {},
   "outputs": [],
   "source": [
    "def corrode(img, struct, x, y):\n",
    "    \"\"\"\n",
    "    腐蚀操作，不影响原图\n",
    "    img - 操作图像\n",
    "    struct - 结构元\n",
    "    x， y - 结构元原点坐标\n",
    "    return - 腐蚀操作后的图像\n",
    "    \"\"\"\n",
    "    img_reverse = img.copy()    # 图像拷贝\n",
    "    cv2.bitwise_not(img_reverse, img_reverse)    # 图像反转\n",
    "    img_rc = inflate(img_reverse, struct, x, y)    # 对背景进行膨胀操作\n",
    "    return cv2.bitwise_not(img_rc, img_rc)"
   ]
  },
  {
   "cell_type": "markdown",
   "metadata": {},
   "source": [
    "## 开运算"
   ]
  },
  {
   "cell_type": "code",
   "execution_count": 4,
   "metadata": {},
   "outputs": [],
   "source": [
    "def img_open(img, struct, x, y):\n",
    "    \"\"\"\n",
    "    开运算，不影响原图\n",
    "    img - 操作图像\n",
    "    struct - 结构元\n",
    "    x， y - 结构元原点坐标\n",
    "    return - 开运算后的图像\n",
    "    \"\"\"\n",
    "    img_open = corrode(img, struct, x, y)    # 先腐蚀\n",
    "    img_open = inflate(img_open, struct, x, y)    # 再膨胀\n",
    "    return img_open"
   ]
  },
  {
   "cell_type": "markdown",
   "metadata": {},
   "source": [
    "## 闭运算"
   ]
  },
  {
   "cell_type": "code",
   "execution_count": 5,
   "metadata": {},
   "outputs": [],
   "source": [
    "def img_close(img, struct, x, y):\n",
    "    \"\"\"\n",
    "    闭运算，不影响原图\n",
    "    img - 操作图像\n",
    "    struct - 结构元\n",
    "    x， y - 结构元原点坐标\n",
    "    return - 闭运算后的图像\n",
    "    \"\"\"\n",
    "    img_close = inflate(img, struct, x, y)    # 先膨胀\n",
    "    img_close = corrode(img_close, struct, x, y)    # 再腐蚀\n",
    "    return img_close"
   ]
  },
  {
   "cell_type": "markdown",
   "metadata": {},
   "source": [
    "## 测试部分："
   ]
  },
  {
   "cell_type": "markdown",
   "metadata": {},
   "source": [
    "结构元"
   ]
  },
  {
   "cell_type": "code",
   "execution_count": 6,
   "metadata": {},
   "outputs": [],
   "source": [
    "struct = np.array([[1, 1, 1, 1 ,1],\n",
    "                   [1, 1, 1, 1, 1],\n",
    "                   [1, 1, 1, 1, 1],\n",
    "                   [1, 1, 1, 1, 1],\n",
    "                   [1, 1, 1, 1, 1]])\n",
    "struct_x, struct_y = 2, 2"
   ]
  },
  {
   "cell_type": "markdown",
   "metadata": {},
   "source": [
    "测试膨胀操作"
   ]
  },
  {
   "cell_type": "code",
   "execution_count": 7,
   "metadata": {},
   "outputs": [],
   "source": [
    "img = cv2.imread(\"triangle.jpg\", 0)\n",
    "ret, img_binary = cv2.threshold(img, 127, 255 ,cv2.THRESH_BINARY_INV)\n",
    "\n",
    "cv2.imshow(\"triangle_binary\", img_binary)\n",
    "img_ift = inflate(img_binary, struct, struct_x, struct_y)\n",
    "cv2.imshow(\"triangle_inflation\", img_ift)\n",
    "\n",
    "k = cv2.waitKey(0) & 0xFF\n",
    "if k == 27:\n",
    "    cv2.destroyAllWindows()"
   ]
  },
  {
   "cell_type": "markdown",
   "metadata": {},
   "source": [
    "测试腐蚀操作"
   ]
  },
  {
   "cell_type": "code",
   "execution_count": 8,
   "metadata": {},
   "outputs": [],
   "source": [
    "img = cv2.imread(\"triangle.jpg\", 0)\n",
    "ret, img_binary = cv2.threshold(img, 127, 255 ,cv2.THRESH_BINARY_INV)\n",
    "\n",
    "cv2.imshow(\"triangle_binary\", img_binary)\n",
    "img_cd = corrode(img_binary, struct, struct_x, struct_y)\n",
    "cv2.imshow(\"triangle_corrode\", img_cd)\n",
    "\n",
    "k = cv2.waitKey(0) & 0xFF\n",
    "if k == 27:\n",
    "    cv2.destroyAllWindows()"
   ]
  },
  {
   "cell_type": "markdown",
   "metadata": {},
   "source": [
    "测试开运算"
   ]
  },
  {
   "cell_type": "code",
   "execution_count": 9,
   "metadata": {},
   "outputs": [],
   "source": [
    "img = cv2.imread(\"triangle.jpg\", 0)\n",
    "ret, img_binary = cv2.threshold(img, 127, 255 ,cv2.THRESH_BINARY_INV)\n",
    "\n",
    "cv2.imshow(\"triangle_binary\", img_binary)\n",
    "img_open = img_open(img_binary, struct, struct_x, struct_y)\n",
    "cv2.imshow(\"triangle_open\", img_open)\n",
    "\n",
    "k = cv2.waitKey(0) & 0xFF\n",
    "if k == 27:\n",
    "    cv2.destroyAllWindows()"
   ]
  },
  {
   "cell_type": "markdown",
   "metadata": {},
   "source": [
    "测试闭运算"
   ]
  },
  {
   "cell_type": "code",
   "execution_count": 10,
   "metadata": {},
   "outputs": [],
   "source": [
    "img = cv2.imread(\"triangle.jpg\", 0)\n",
    "ret, img_binary = cv2.threshold(img, 127, 255 ,cv2.THRESH_BINARY_INV)\n",
    "\n",
    "cv2.imshow(\"triangle_binary\", img_binary)\n",
    "img_close = img_close(img_binary, struct, struct_x, struct_y)\n",
    "cv2.imshow(\"triangle_close\", img_close)\n",
    "\n",
    "k = cv2.waitKey(0) & 0xFF\n",
    "if k == 27:\n",
    "    cv2.destroyAllWindows()"
   ]
  },
  {
   "cell_type": "code",
   "execution_count": null,
   "metadata": {},
   "outputs": [],
   "source": []
  }
 ],
 "metadata": {
  "kernelspec": {
   "display_name": "Python 3",
   "language": "python",
   "name": "python3"
  },
  "language_info": {
   "codemirror_mode": {
    "name": "ipython",
    "version": 3
   },
   "file_extension": ".py",
   "mimetype": "text/x-python",
   "name": "python",
   "nbconvert_exporter": "python",
   "pygments_lexer": "ipython3",
   "version": "3.7.1"
  }
 },
 "nbformat": 4,
 "nbformat_minor": 2
}
